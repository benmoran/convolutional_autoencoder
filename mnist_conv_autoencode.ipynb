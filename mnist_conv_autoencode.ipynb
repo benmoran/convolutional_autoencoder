{
 "cells": [
  {
   "cell_type": "code",
   "execution_count": 2,
   "metadata": {
    "collapsed": false
   },
   "outputs": [
    {
     "name": "stderr",
     "output_type": "stream",
     "text": [
      "Using gpu device 0: GeForce GTX 870M (CNMeM is disabled)\n"
     ]
    }
   ],
   "source": [
    "# add to kfkd.py\n",
    "from lasagne import layers\n",
    "from lasagne.updates import nesterov_momentum\n",
    "from nolearn.lasagne import NeuralNet\n",
    "import numpy as np\n",
    "import theano.tensor as T\n",
    "from nolearn.lasagne import BatchIterator\n",
    "from theano.sandbox.neighbours import neibs2images\n",
    "from lasagne.objectives import squared_error as mse\n",
    "\n",
    "### this is really dumb, current nolearn doesnt play well with lasagne, \n",
    "### so had to manually copy the file I wanted to this folder\n",
    "from shape import ReshapeLayer\n",
    "\n",
    "from lasagne.nonlinearities import tanh\n",
    "import pickle\n",
    "import sys\n",
    "from sklearn.metrics import mean_squared_error as mse\n",
    "from sklearn.metrics import precision_score\n",
    "import os\n",
    "import urllib\n",
    "import gzip\n",
    "import cPickle\n",
    "from IPython.display import Image as IPImage\n",
    "from PIL import Image"
   ]
  },
  {
   "cell_type": "code",
   "execution_count": 3,
   "metadata": {
    "collapsed": false
   },
   "outputs": [],
   "source": [
    "class Unpool2DLayer(layers.Layer):\n",
    "    \"\"\"\n",
    "    This layer performs unpooling over the last two dimensions\n",
    "    of a 4D tensor.\n",
    "    \"\"\"\n",
    "    def __init__(self, incoming, ds, **kwargs):\n",
    "        \n",
    "        super(Unpool2DLayer, self).__init__(incoming, **kwargs)\n",
    "\n",
    "        if (isinstance(ds, int)):\n",
    "            raise ValueError('ds must have len == 2')\n",
    "        else:\n",
    "            ds = tuple(ds)\n",
    "            if len(ds) != 2:\n",
    "                raise ValueError('ds must have len == 2')\n",
    "            if ds[0] != ds[1]:\n",
    "                raise ValueError('ds should be symmetric (I am lazy)')\n",
    "            self.ds = ds\n",
    "\n",
    "    def get_output_shape_for(self, input_shape):\n",
    "        output_shape = list(input_shape)\n",
    "\n",
    "        output_shape[2] = input_shape[2] * self.ds[0]\n",
    "        output_shape[3] = input_shape[3] * self.ds[1]\n",
    "\n",
    "        return tuple(output_shape)\n",
    "\n",
    "    def get_output_for(self, input, **kwargs):\n",
    "        ds = self.ds\n",
    "        input_shape = input.shape\n",
    "        output_shape = self.get_output_shape_for(input_shape)\n",
    "        return input.repeat(2, axis = 2).repeat(2, axis = 3)"
   ]
  },
  {
   "cell_type": "code",
   "execution_count": 4,
   "metadata": {
    "collapsed": false
   },
   "outputs": [],
   "source": [
    "### when we load the batches to input to the neural network, we randomly / flip rotate the images, to artificially\n",
    "### increase the size of the training set\n",
    "\n",
    "class FlipBatchIterator(BatchIterator):\n",
    "\n",
    "    def transform(self, X1, X2):\n",
    "        X1b, X2b = super(FlipBatchIterator, self).transform(X1, X2)\n",
    "        X2b = X2b.reshape(X1b.shape)\n",
    "\n",
    "        bs = X1b.shape[0]\n",
    "        h_indices = np.random.choice(bs, bs / 2, replace=False) # horizontal flip\n",
    "        v_indices = np.random.choice(bs, bs / 2, replace=False) # vertical flip\n",
    "        \n",
    "        ###  uncomment these lines if you want to include rotations (images must be square)  ###\n",
    "        #r_indices = np.random.choice(bs, bs / 2, replace=False) # 90 degree rotation\n",
    "        for X in (X1b, X2b):\n",
    "            X[h_indices] = X[h_indices, :, :, ::-1]\n",
    "            X[v_indices] = X[v_indices, :, ::-1, :]\n",
    "            #X[r_indices] = np.swapaxes(X[r_indices, :, :, :], 2, 3)\n",
    "        shape = X2b.shape\n",
    "        X2b = X2b.reshape((shape[0], -1))\n",
    "\n",
    "        return X1b, X2b"
   ]
  },
  {
   "cell_type": "code",
   "execution_count": 5,
   "metadata": {
    "collapsed": false
   },
   "outputs": [],
   "source": [
    "fname = 'mnist/mnist.pkl.gz'\n",
    "if not os.path.isfile(fname):\n",
    "    testfile = urllib.URLopener()\n",
    "    testfile.retrieve(\"http://deeplearning.net/data/mnist/mnist.pkl.gz\", fname)\n",
    "f = gzip.open(fname, 'rb')\n",
    "train_set, valid_set, test_set = cPickle.load(f)\n",
    "f.close()\n",
    "X, y = train_set\n",
    "X = np.rint(X * 256).astype(np.int).reshape((-1, 1, 28,28)) # convert to (0,255) int range (we'll do our own scaling)\n",
    "mu, sigma = np.mean(X.flatten()), np.std(X.flatten())"
   ]
  },
  {
   "cell_type": "code",
   "execution_count": 6,
   "metadata": {
    "collapsed": false
   },
   "outputs": [],
   "source": [
    "X_train = X.astype(np.float64)\n",
    "X_train = (X_train - mu) / sigma\n",
    "X_train = X_train.astype(np.float32)\n",
    "\n",
    "# we need our target to be 1 dimensional\n",
    "X_out = X_train.reshape((X_train.shape[0], -1))"
   ]
  },
  {
   "cell_type": "code",
   "execution_count": 7,
   "metadata": {
    "collapsed": false
   },
   "outputs": [
    {
     "name": "stdout",
     "output_type": "stream",
     "text": [
      "# Neural Network with 537257 learnable parameters\n",
      "\n",
      "## Layer information\n",
      "\n",
      "  #  name          size\n",
      "---  ------------  --------\n",
      "  0  input         1x28x28\n",
      "  1  conv          32x22x22\n",
      "  2  pool          32x11x11\n",
      "  3  flatten       3872\n",
      "  4  encode_layer  40\n",
      "  5  hidden        9248\n",
      "  6  unflatten     32x17x17\n",
      "  7  unpool        32x34x34\n",
      "  8  deconv        1x28x28\n",
      "  9  output_layer  784\n",
      "\n",
      "  epoch    train loss    valid loss    train/val  dur\n",
      "-------  ------------  ------------  -----------  ------\n",
      "      1       \u001b[36m0.42700\u001b[0m       \u001b[32m0.20972\u001b[0m      2.03602  54.44s\n",
      "      2       \u001b[36m0.17209\u001b[0m       \u001b[32m0.14542\u001b[0m      1.18338  54.48s\n",
      "      3       \u001b[36m0.13335\u001b[0m       \u001b[32m0.12315\u001b[0m      1.08288  54.33s\n",
      "      4       \u001b[36m0.11775\u001b[0m       \u001b[32m0.11157\u001b[0m      1.05535  54.34s\n",
      "      5       \u001b[36m0.10948\u001b[0m       \u001b[32m0.10576\u001b[0m      1.03519  54.33s\n",
      "      6       \u001b[36m0.10477\u001b[0m       \u001b[32m0.10143\u001b[0m      1.03287  54.35s\n",
      "      7       \u001b[36m0.10105\u001b[0m       \u001b[32m0.09870\u001b[0m      1.02378  54.37s\n",
      "      8       \u001b[36m0.09829\u001b[0m       \u001b[32m0.09669\u001b[0m      1.01661  54.43s\n",
      "      9       \u001b[36m0.09602\u001b[0m       \u001b[32m0.09425\u001b[0m      1.01871  54.34s\n",
      "     10       \u001b[36m0.09416\u001b[0m       \u001b[32m0.09262\u001b[0m      1.01666  54.36s\n",
      "     11       \u001b[36m0.09273\u001b[0m       \u001b[32m0.09150\u001b[0m      1.01340  54.49s\n",
      "     12       \u001b[36m0.09127\u001b[0m       \u001b[32m0.08993\u001b[0m      1.01489  54.45s\n",
      "     13       \u001b[36m0.09023\u001b[0m       \u001b[32m0.08880\u001b[0m      1.01615  54.24s\n",
      "     14       \u001b[36m0.08896\u001b[0m       \u001b[32m0.08804\u001b[0m      1.01045  54.31s\n",
      "     15       \u001b[36m0.08816\u001b[0m       \u001b[32m0.08664\u001b[0m      1.01747  54.25s\n",
      "     16       \u001b[36m0.08753\u001b[0m       \u001b[32m0.08653\u001b[0m      1.01154  54.28s\n",
      "     17       \u001b[36m0.08619\u001b[0m       \u001b[32m0.08512\u001b[0m      1.01255  54.24s\n",
      "     18       \u001b[36m0.08599\u001b[0m       \u001b[32m0.08476\u001b[0m      1.01449  54.31s\n",
      "     19       \u001b[36m0.08481\u001b[0m       \u001b[32m0.08387\u001b[0m      1.01121  54.26s\n",
      "     20       \u001b[36m0.08407\u001b[0m       \u001b[32m0.08327\u001b[0m      1.00969  54.24s\n",
      "\n"
     ]
    }
   ],
   "source": [
    "conv_filters = 32\n",
    "deconv_filters = 32\n",
    "filter_sizes = 7\n",
    "epochs = 20\n",
    "encode_size = 40\n",
    "ae = NeuralNet(\n",
    "    layers=[\n",
    "        ('input', layers.InputLayer),\n",
    "        ('conv', layers.Conv2DLayer),\n",
    "        ('pool', layers.MaxPool2DLayer),\n",
    "        ('flatten', ReshapeLayer), # output_dense\n",
    "        ('encode_layer', layers.DenseLayer),\n",
    "        ('hidden', layers.DenseLayer), # output_dense\n",
    "        ('unflatten', ReshapeLayer),\n",
    "        ('unpool', Unpool2DLayer),\n",
    "        ('deconv', layers.Conv2DLayer),\n",
    "        ('output_layer', ReshapeLayer),\n",
    "        ],\n",
    "    input_shape=(None, 1, 28, 28),\n",
    "    conv_num_filters=conv_filters, conv_filter_size = (filter_sizes, filter_sizes), \n",
    "    #conv_pad=\"same\",\n",
    "    conv_nonlinearity=None,\n",
    "    pool_pool_size=(2, 2),\n",
    "    flatten_shape=(([0], -1)), # not sure if necessary?\n",
    "    encode_layer_num_units = encode_size,\n",
    "    hidden_num_units= deconv_filters * (28 + filter_sizes - 1) ** 2 / 4,\n",
    "    unflatten_shape=(([0], deconv_filters, (28 + filter_sizes - 1) / 2, (28 + filter_sizes - 1) / 2 )),\n",
    "    unpool_ds=(2, 2),\n",
    "    deconv_num_filters=1, deconv_filter_size = (filter_sizes, filter_sizes), \n",
    "    #deconv_pad=\"same\",\n",
    "    deconv_nonlinearity=None,\n",
    "    output_layer_shape = (([0], -1)),\n",
    "    update_learning_rate = 0.01,\n",
    "    update_momentum = 0.975,\n",
    "    batch_iterator_train=FlipBatchIterator(batch_size=128),\n",
    "    regression=True,\n",
    "    max_epochs= epochs,\n",
    "    verbose=1,\n",
    "    )\n",
    "ae.fit(X_train, X_out)\n",
    "print \n",
    "###  expect training / val error of about 0.087 with these parameters\n",
    "###  if your GPU not fast enough, reduce the number of filters in the conv/deconv step"
   ]
  },
  {
   "cell_type": "code",
   "execution_count": 53,
   "metadata": {
    "collapsed": false
   },
   "outputs": [],
   "source": [
    "import pickle\n",
    "import sys\n",
    "sys.setrecursionlimit(10000)\n",
    "\n",
    "pickle.dump(ae, open('mnist/conv_ae.pkl','w'))\n",
    "#ae = pickle.load(open('mnist/conv_ae.pkl','r'))\n",
    "ae.save_params_to('mnist/conv_ae.np')"
   ]
  },
  {
   "cell_type": "code",
   "execution_count": 11,
   "metadata": {
    "collapsed": false
   },
   "outputs": [
    {
     "name": "stdout",
     "output_type": "stream",
     "text": [
      "(50000, 28, 28) (50000, 1, 28, 28)\n"
     ]
    }
   ],
   "source": [
    "X_train_pred = ae.predict(X_train).reshape(-1, 28, 28) * sigma + mu\n",
    "X_pred = np.rint(X_train_pred).astype(int)\n",
    "X_pred = np.clip(X_pred, a_min = 0, a_max = 255)\n",
    "X_pred = X_pred.astype('uint8')\n",
    "print X_pred.shape , X.shape"
   ]
  },
  {
   "cell_type": "code",
   "execution_count": 24,
   "metadata": {
    "collapsed": false
   },
   "outputs": [
    {
     "name": "stdout",
     "output_type": "stream",
     "text": [
      "210\n"
     ]
    },
    {
     "data": {
      "image/png": "[encoded data removed]",
      "text/plain": [
       "<IPython.core.display.Image object>"
      ]
     },
     "execution_count": 24,
     "metadata": {},
     "output_type": "execute_result"
    }
   ],
   "source": [
    "###  show random inputs / outputs side by side\n",
    "\n",
    "def get_picture_array(X, index):\n",
    "    array = X[index].reshape(28,28)\n",
    "    array = np.clip(array, a_min = 0, a_max = 255)\n",
    "    return  array.repeat(4, axis = 0).repeat(4, axis = 1).astype(np.uint8())\n",
    "\n",
    "def get_random_images():\n",
    "    index = np.random.randint(5000)\n",
    "    print index\n",
    "    original_image = Image.fromarray(get_picture_array(X, index))\n",
    "    new_size = (original_image.size[0] * 2, original_image.size[1])\n",
    "    new_im = Image.new('L', new_size)\n",
    "    new_im.paste(original_image, (0,0))\n",
    "    rec_image = Image.fromarray(get_picture_array(X_pred, index))\n",
    "    new_im.paste(rec_image, (original_image.size[0],0))\n",
    "    new_im.save('data/test.png', format=\"PNG\")    \n",
    "    \n",
    "get_random_images()\n",
    "IPImage('data/test.png')"
   ]
  },
  {
   "cell_type": "code",
   "execution_count": 31,
   "metadata": {
    "collapsed": false
   },
   "outputs": [],
   "source": [
    "## we find the encode layer from our ae, and use it to define an encoding function\n",
    "\n",
    "encode_layer_index = map(lambda pair : pair[0], ae.layers).index('encode_layer')\n",
    "encode_layer = ae.get_all_layers()[encode_layer_index]\n",
    "\n",
    "def get_output_from_nn(last_layer, X):\n",
    "    indices = np.arange(128, X.shape[0], 128)\n",
    "    sys.stdout.flush()\n",
    "    \n",
    "    # not splitting into batches can cause a memory error\n",
    "    X_batches = np.split(X, indices)\n",
    "    out = []\n",
    "    for count, X_batch in enumerate(X_batches):\n",
    "        #out.append(last_layer.get_output_for (X_batch).eval())\n",
    "        out.append(lasagne.layers.get_output(last_layer, X_batch).eval())\n",
    "        sys.stdout.flush()\n",
    "    return np.vstack(out)\n",
    "\n",
    "\n",
    "def encode_input(X):\n",
    "    return get_output_from_nn(encode_layer, X)\n",
    "\n",
    "X_encoded = encode_input(X_train)"
   ]
  },
  {
   "cell_type": "code",
   "execution_count": 51,
   "metadata": {
    "collapsed": false
   },
   "outputs": [
    {
     "name": "stdout",
     "output_type": "stream",
     "text": [
      "(50000, 784)\n"
     ]
    },
    {
     "data": {
      "image/png": "[encoded data removed]",
      "text/plain": [
       "<IPython.core.display.Image object>"
      ]
     },
     "execution_count": 51,
     "metadata": {},
     "output_type": "execute_result"
    }
   ],
   "source": [
    "next_layer = ae.get_all_layers()[encode_layer_index + 1]\n",
    "final_layer = ae.get_all_layers()[-1]\n",
    "new_layer = layers.InputLayer(shape = (None, encode_layer.num_units))\n",
    "\n",
    "# N.B after we do this, we won't be able to use the original autoencoder , as the layers are broken up\n",
    "next_layer.input_layer = new_layer\n",
    "\n",
    "def decode_encoded_input(X):\n",
    "    return get_output_from_nn(final_layer, X)\n",
    "\n",
    "X_decoded = decode_encoded_input(X_encoded) * sigma + mu\n",
    "\n",
    "X_decoded = np.rint(X_decoded ).astype(int)\n",
    "X_decoded = np.clip(X_decoded, a_min = 0, a_max = 255)\n",
    "X_decoded  = X_decoded.astype('uint8')\n",
    "print X_decoded.shape\n",
    "\n",
    "### check it worked :\n",
    "\n",
    "pic_array = get_picture_array(X_decoded, np.random.randint(len(X_decoded)))\n",
    "image = Image.fromarray(pic_array)\n",
    "image.save('data/test.png', format=\"PNG\")  \n",
    "IPImage('data/test.png')"
   ]
  },
  {
   "cell_type": "raw",
   "metadata": {},
   "source": []
  },
  {
   "cell_type": "code",
   "execution_count": 45,
   "metadata": {
    "collapsed": false
   },
   "outputs": [
    {
     "data": {
      "image/png": "[encoded data removed]",
      "text/plain": [
       "<IPython.core.display.Image object>"
      ]
     },
     "execution_count": 45,
     "metadata": {},
     "output_type": "execute_result"
    }
   ],
   "source": [
    "pic_array = get_picture_array(X_decoded, 39823)\n",
    "image = Image.fromarray(pic_array)\n",
    "IPImage('data/test.png')"
   ]
  },
  {
   "cell_type": "code",
   "execution_count": null,
   "metadata": {
    "collapsed": true
   },
   "outputs": [],
   "source": []
  }
 ],
 "metadata": {
  "kernelspec": {
   "display_name": "Python 2",
   "language": "python",
   "name": "python2"
  },
  "language_info": {
   "codemirror_mode": {
    "name": "ipython",
    "version": 2
   },
   "file_extension": ".py",
   "mimetype": "text/x-python",
   "name": "python",
   "nbconvert_exporter": "python",
   "pygments_lexer": "ipython2",
   "version": "2.7.6"
  }
 },
 "nbformat": 4,
 "nbformat_minor": 0
}
